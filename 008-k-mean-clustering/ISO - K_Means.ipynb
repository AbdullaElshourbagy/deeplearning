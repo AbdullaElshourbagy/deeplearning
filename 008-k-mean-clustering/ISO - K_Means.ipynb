{
 "cells": [
  {
   "cell_type": "code",
   "execution_count": 42,
   "metadata": {},
   "outputs": [],
   "source": [
    "import numpy as np\n",
    "import matplotlib.pyplot as plt\n",
    "from matplotlib import style\n",
    "style.use('ggplot')"
   ]
  },
  {
   "cell_type": "code",
   "execution_count": 43,
   "metadata": {},
   "outputs": [
    {
     "data": {
      "image/png": "[encoded data removed]",
      "text/plain": [
       "<Figure size 432x288 with 1 Axes>"
      ]
     },
     "metadata": {},
     "output_type": "display_data"
    }
   ],
   "source": [
    "# input features\n",
    "X = np.array([\n",
    "    [1, 3],\n",
    "    [2, 1.8],\n",
    "    [5, 8],\n",
    "    [8, 8],\n",
    "    [1., 0.8],\n",
    "    [9, 11]\n",
    "    ])\n",
    "plt.scatter(X[:,0], X[:,1], s=100)\n",
    "plt.show()"
   ]
  },
  {
   "cell_type": "code",
   "execution_count": 44,
   "metadata": {},
   "outputs": [],
   "source": [
    "# colors for our groups \n",
    "colors = 5*['r', 'b', 'g', 'm', 'y', 'c']"
   ]
  },
  {
   "cell_type": "code",
   "execution_count": 52,
   "metadata": {},
   "outputs": [],
   "source": [
    "class K_Means:\n",
    "    def __init__(self, k=2, tol=0.01, max_iter=300):\n",
    "        self.k = k # num groups to cluster\n",
    "        self.tol = tol # tolerance: how much centroid can  move before converging\n",
    "        self.max_iter = max_iter # if tolerance is not reached (did not converge)\n",
    "    def fit(self, data):\n",
    "        self.centroids = {}\n",
    "        # first k centroids are chosen arbitraraly\n",
    "        # in this case the first k features are the initial centroids\n",
    "        for i in range(self.k):\n",
    "            self.centroids[i] = data[i]\n",
    "\n",
    "        for i in range(self.max_iter):\n",
    "            # contains (centroid, fetures) pairs\n",
    "            self.classifications = {}\n",
    "\n",
    "            for i in range(self.k):\n",
    "                self.classifications[i] = []\n",
    "\n",
    "            for featureset in data:\n",
    "                # list of distances from each centroid from the feature\n",
    "                distances = [np.linalg.norm(featureset - self.centroids[centroid]) for centroid in self.centroids]\n",
    "                classification = distances.index(min(distances))\n",
    "                self.classifications[classification].append(featureset)\n",
    "            prev_centroids = dict(self.centroids)\n",
    "\n",
    "            for classification in self.classifications:\n",
    "                # centroid changes to mean of features\n",
    "                self.centroids[classification] = np.average(self.classifications[classification], axis=0)\n",
    "            # see if converged\n",
    "            converged = True\n",
    "            for c in self.centroids:\n",
    "                origanal_centroid = prev_centroids[c]\n",
    "                current_centroid = self.centroids[c]\n",
    "                if np.sum((current_centroid-origanal_centroid) / origanal_centroid*100.0) > self.tol:\n",
    "                    print('centroid moved: ', np.sum((current_centroid-origanal_centroid) / origanal_centroid*100.0))\n",
    "                    converged = False\n",
    "    def predict(self, data):\n",
    "        distances = [np.linalg.norm(data - self.centroids[centroid]) for centroid in self.centroids]\n",
    "        classification = distances.index(min(distances))\n",
    "        return classification"
   ]
  },
  {
   "cell_type": "code",
   "execution_count": 55,
   "metadata": {},
   "outputs": [
    {
     "name": "stdout",
     "output_type": "stream",
     "text": [
      "centroid moved:  625.0\n",
      "centroid moved:  47.53623188405797\n",
      "centroid moved:  32.478632478632456\n"
     ]
    }
   ],
   "source": [
    "clf = K_Means(k=2)\n",
    "clf.fit(X)"
   ]
  },
  {
   "cell_type": "code",
   "execution_count": 54,
   "metadata": {},
   "outputs": [
    {
     "data": {
      "image/png": "[encoded data removed]",
      "text/plain": [
       "<Figure size 432x288 with 1 Axes>"
      ]
     },
     "metadata": {},
     "output_type": "display_data"
    }
   ],
   "source": [
    "for centroid in clf.centroids:\n",
    "    plt.scatter(clf.centroids[centroid][0], clf.centroids[centroid][1],\n",
    "        marker = 'o', c='k',s=60)\n",
    "for classification in clf.classifications:\n",
    "    color = colors[classification]\n",
    "    for featureset in clf.classifications[classification]:\n",
    "        plt.scatter(featureset[0], featureset[1], marker='x', c=color, s=70,linewidth=3)\n",
    "# plt.show()"
   ]
  }
 ],
 "metadata": {
  "kernelspec": {
   "display_name": "Python 3",
   "language": "python",
   "name": "python3"
  },
  "language_info": {
   "codemirror_mode": {
    "name": "ipython",
    "version": 3
   },
   "file_extension": ".py",
   "mimetype": "text/x-python",
   "name": "python",
   "nbconvert_exporter": "python",
   "pygments_lexer": "ipython3",
   "version": "3.6.4"
  }
 },
 "nbformat": 4,
 "nbformat_minor": 2
}
