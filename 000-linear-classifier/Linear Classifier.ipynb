{
 "cells": [
  {
   "cell_type": "markdown",
   "metadata": {},
   "source": [
    "ISO-\n",
    "\n",
    "K Nearest Neighbors Algorithm using sklearn\n",
    "\n",
    "based on a tutorial by sentdex\n",
    "\n",
    "using USI breast cancer dataset (original)\n",
    "\n",
    "this does not scale well, bad on large datasets\n",
    "\n",
    "@TODO: learn neural networks lol"
   ]
  },
  {
   "cell_type": "code",
   "execution_count": 3,
   "metadata": {},
   "outputs": [],
   "source": [
    "\n",
    "import numpy as np # linear algebra shit\n",
    "from sklearn import preprocessing, neighbors \n",
    "from sklearn.model_selection import train_test_split\n",
    "'''\n",
    "preprocessing is for cleaning/scaling data (not used here)\n",
    "train_test_split is for seperating training and texting data\n",
    "neighbors is our classifier\n",
    "'''\n",
    "import pandas as pd # processes data\n",
    "import pickle # if you want to save the classifier without training again\n",
    "\n"
   ]
  },
  {
   "cell_type": "markdown",
   "metadata": {},
   "source": [
    "%load breast-cancer-wisconsin.data.txt"
   ]
  },
  {
   "cell_type": "code",
   "execution_count": 4,
   "metadata": {},
   "outputs": [],
   "source": [
    "# use pandas to parse input\n",
    "df = pd.read_csv('breast-cancer-wisconsin.data.txt')\n",
    "\n",
    "# replace unkown data with outliers, I could have dropped the unkowns but sometimes your data has so many unkowns\n",
    "# that dropping it will leave you with a much smaller data set\n",
    "df.replace('?',-99999, inplace=True)\n",
    "\n",
    "# irrelevent feature, does not affect class, improves accuracy if we remove\n",
    "df.drop(['id'], 1, inplace=True)"
   ]
  },
  {
   "cell_type": "code",
   "execution_count": 7,
   "metadata": {},
   "outputs": [],
   "source": [
    "# init features\n",
    "X = np.array(df.drop(['class'], 1))\n",
    "# init classes\n",
    "y = np.array(df['class'])"
   ]
  },
  {
   "cell_type": "code",
   "execution_count": 8,
   "metadata": {},
   "outputs": [],
   "source": [
    "# seperate training & testing data\n",
    "X_train, X_test, y_train, y_test = train_test_split(X, y, test_size=0.2)"
   ]
  },
  {
   "cell_type": "code",
   "execution_count": 10,
   "metadata": {},
   "outputs": [],
   "source": [
    "# define classifier\n",
    "clf = neighbors.KNeighborsClassifier()"
   ]
  },
  {
   "cell_type": "code",
   "execution_count": 14,
   "metadata": {},
   "outputs": [
    {
     "data": {
      "text/plain": [
       "KNeighborsClassifier(algorithm='auto', leaf_size=30, metric='minkowski',\n",
       "           metric_params=None, n_jobs=1, n_neighbors=5, p=2,\n",
       "           weights='uniform')"
      ]
     },
     "execution_count": 14,
     "metadata": {},
     "output_type": "execute_result"
    }
   ],
   "source": [
    "# train classifier\n",
    "clf.fit(X_train, y_train)\n",
    "# at this point we could pickle the classifier but since it runs so fast I didnt feel like it"
   ]
  },
  {
   "cell_type": "code",
   "execution_count": 15,
   "metadata": {},
   "outputs": [
    {
     "name": "stdout",
     "output_type": "stream",
     "text": [
      "0.9785714285714285\n"
     ]
    }
   ],
   "source": [
    "# test\n",
    "accuracy = clf.score(X_test, y_test)\n",
    "print(accuracy)"
   ]
  },
  {
   "cell_type": "code",
   "execution_count": 19,
   "metadata": {},
   "outputs": [
    {
     "name": "stdout",
     "output_type": "stream",
     "text": [
      "[2 2]\n"
     ]
    }
   ],
   "source": [
    "# try our classifier out, in this case with two samples\n",
    "example_measures = np.array([[4,2,1,1,1,2,3,2,1],[3,2,1,5,2,2,3,2,1]])\n",
    "example_measures = example_measures.reshape(len(example_measures), -1)\n",
    "prediction = clf.predict(example_measures)\n",
    "print(prediction)"
   ]
  }
 ],
 "metadata": {
  "kernelspec": {
   "display_name": "Python 3",
   "language": "python",
   "name": "python3"
  },
  "language_info": {
   "codemirror_mode": {
    "name": "ipython",
    "version": 3
   },
   "file_extension": ".py",
   "mimetype": "text/x-python",
   "name": "python",
   "nbconvert_exporter": "python",
   "pygments_lexer": "ipython3",
   "version": "3.5.2"
  }
 },
 "nbformat": 4,
 "nbformat_minor": 2
}
