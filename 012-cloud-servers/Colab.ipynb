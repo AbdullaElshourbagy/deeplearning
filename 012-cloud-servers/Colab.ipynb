{
 "cells": [
  {
   "cell_type": "markdown",
   "metadata": {},
   "source": [
    "# How to use Colab\n",
    "\n",
    "URL: https://colab.research.google.com/\n",
    "\n",
    "A quick guide: https://medium.com/deep-learning-turkey/google-colab-free-gpu-tutorial-e113627b9f5d\n",
    "\n",
    "\n",
    "I made this notebook to highlight few useful things when using Colab\n",
    "\n",
    "#### Running any bash commandS\n",
    "\n",
    "Start a new line with `!`\n",
    "\n",
    "2. Instlaling a different version of tensorflow\n",
    "\n",
    "```bash\n",
    "!pip install tensorflow==1.0.0\n",
    "```\n",
    "\n",
    "#### Checking GPU is enabled\n",
    "\n",
    "```python\n",
    "import tensorflow as tf\n",
    "device_name = tf.test.gpu_device_name()\n",
    "if device_name != '/device:GPU:0':\n",
    "  raise SystemError('GPU device not found')\n",
    "print('Found GPU at: {}'.format(device_name))\n",
    "```\n",
    "\n",
    "\n",
    "#### Saving weights to the Drive\n",
    "\n",
    "- Authenticating to Google Drive\n",
    "\n",
    "```bash\n",
    "!apt-get install -y -qq software-properties-common python-software-properties module-init-tools\n",
    "!add-apt-repository -y ppa:alessandro-strada/ppa 2>&1 > /dev/null\n",
    "!apt-get update -qq 2>&1 > /dev/null\n",
    "!apt-get -y install -qq google-drive-ocamlfuse fuse\n",
    "from google.colab import auth\n",
    "auth.authenticate_user()\n",
    "from oauth2client.client import GoogleCredentials\n",
    "creds = GoogleCredentials.get_application_default()\n",
    "import getpass\n",
    "!google-drive-ocamlfuse -headless -id={creds.client_id} -secret={creds.client_secret} < /dev/null 2>&1 | grep URL\n",
    "vcode = getpass.getpass()\n",
    "!echo {vcode} | google-drive-ocamlfuse -headless -id={creds.client_id} -secret={creds.client_secret}\n",
    "```\n",
    "\n",
    "- Establishing the connection\n",
    "\n",
    "```bash\n",
    "!mkdir -p drive\n",
    "!google-drive-ocamlfuse drive\n",
    "```\n",
    "\n",
    "- Check you can see all the files in the Drive folder\n",
    "\n",
    "```bash\n",
    "!ls drive\n",
    "```\n",
    "\n",
    "- Check you can write to the Drive\n",
    "\n",
    "```bash\n",
    "!touch drive/stuff.txt\n",
    "```"
   ]
  },
  {
   "cell_type": "code",
   "execution_count": null,
   "metadata": {
    "collapsed": true
   },
   "outputs": [],
   "source": []
  }
 ],
 "metadata": {
  "kernelspec": {
   "display_name": "Python 2",
   "language": "python",
   "name": "python2"
  },
  "language_info": {
   "codemirror_mode": {
    "name": "ipython",
    "version": 2
   },
   "file_extension": ".py",
   "mimetype": "text/x-python",
   "name": "python",
   "nbconvert_exporter": "python",
   "pygments_lexer": "ipython2",
   "version": "2.7.6"
  }
 },
 "nbformat": 4,
 "nbformat_minor": 2
}
