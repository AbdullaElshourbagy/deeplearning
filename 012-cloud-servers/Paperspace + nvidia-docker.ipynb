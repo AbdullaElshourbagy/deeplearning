{
 "cells": [
  {
   "cell_type": "markdown",
   "metadata": {},
   "source": [
    "# Training models on Paperspace with nvidia docker\n",
    "\n",
    "What is Paperspace?\n",
    "\n",
    "- Easy way to train your Deep Learning models on cloud GPUs if you don't have one already\n",
    "- Cheap cloud GPUs\n",
    "- Trial GPU hours\n",
    "\n",
    "# Introduction\n",
    "\n",
    "How do you get started?\n",
    "\n",
    "https://www.youtube.com/watch?v=swXhAI6DF0E\n",
    "\n",
    "#### ^ Follow this tutorial but \n",
    "\n",
    "- Create a machine using *Ubuntu 16.04* template\n",
    "- Choose a machine type with GPU\n",
    "\n",
    "\n",
    "Once you have created a machine, you should have recieved a root user password from Paperspace in your email."
   ]
  },
  {
   "cell_type": "markdown",
   "metadata": {},
   "source": [
    "# Installing nvidia-docker\n",
    "\n",
    "Why nvidia-docker?\n",
    "\n",
    "- It is the best way to run our models in consistent environment as our local environment\n",
    "- It is very easy to get started\n",
    "\n",
    "\n",
    "##### Steps\n",
    "\n",
    "- So far you must have created a GPU enabled Ubuntu 16.04 machine\n",
    "- Run below command to install nvidia-docker + docker\n",
    "\n",
    "```bash\n",
    "wget -O - -q 'https://gist.githubusercontent.com/dte/8954e405590a360614dcc6acdb7baa74/raw/d1b5a01ed0b9252654016d2a9a435dc8b4c045e7/install-CUDA-docker-nvidia-docker.sh' | sudo bash\n",
    "```\n",
    "\n",
    "- Then you must restart your machine\n",
    "\n",
    "```bash\n",
    "sudo shutdown -r now\n",
    "```"
   ]
  },
  {
   "cell_type": "markdown",
   "metadata": {},
   "source": [
    "# Training || running Jupyter Notebook || just bash\n",
    "\n",
    "#### 1. Jupyter notebook\n",
    "\n",
    "```bash\n",
    "sudo nvidia-docker run --rm --name tf-notebook -p 8888:8888 -p 6006:6006 gcr.io/tensorflow/tensorflow:latest-gpu jupyter notebook --allow-root\n",
    "```\n",
    "\n",
    "- Note that you must enable **Public IP* to acce\n",
    "\n",
    "\n",
    "#### 2. Python file\n",
    "\n",
    "```bash\n",
    "sudo nvidia-docker run -d -it -v $(pwd)/030-chatbot:/notebooks -v /inputs:/inputs -v /output:/output tensorflow/tensorflow:1.0.0-gpu python chatbot_simple.py\n",
    "```\n",
    "\n",
    "Above command will do\n",
    "\n",
    "- Run a container in daemonised mode\n",
    "- Interactive shell enabled\n",
    "- Mount `030-chatbot`, `/inputs` and `/output` folders from host\n",
    "- Run `python chatbot_simple.py`\n",
    "- Create a container using `tensorflow:1.0.0-gpu\n",
    "\n",
    "\n",
    "#### 3. TF container bash access\n",
    "\n",
    "\n",
    "TF 1.0.0 version\n",
    "\n",
    "```bash\n",
    "sudo nvidia-docker run -it tensorflow/tensorflow:1.0.0-gpu bash\n",
    "```\n",
    "\n",
    "TF latest version\n",
    "\n",
    "```bash\n",
    "sudo nvidia-docker run -it tensorflow/tensorflow:latest-gpu bash\n",
    "```\n"
   ]
  }
 ],
 "metadata": {
  "kernelspec": {
   "display_name": "Python 2",
   "language": "python",
   "name": "python2"
  },
  "language_info": {
   "codemirror_mode": {
    "name": "ipython",
    "version": 2
   },
   "file_extension": ".py",
   "mimetype": "text/x-python",
   "name": "python",
   "nbconvert_exporter": "python",
   "pygments_lexer": "ipython2",
   "version": "2.7.12"
  }
 },
 "nbformat": 4,
 "nbformat_minor": 2
}
