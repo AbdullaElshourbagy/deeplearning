{
 "cells": [
  {
   "cell_type": "code",
   "execution_count": 3,
   "metadata": {},
   "outputs": [],
   "source": [
    "import tensorflow as tf\n",
    "import numpy as np\n",
    "import matplotlib.pyplot as plt\n",
    "%matplotlib inline\n",
    "from tensorflow.examples.tutorials.mnist import input_data"
   ]
  },
  {
   "cell_type": "code",
   "execution_count": 4,
   "metadata": {},
   "outputs": [
    {
     "name": "stdout",
     "output_type": "stream",
     "text": [
      "Extracting ./inputs/mnist\\train-images-idx3-ubyte.gz\n",
      "Extracting ./inputs/mnist\\train-labels-idx1-ubyte.gz\n",
      "Extracting ./inputs/mnist\\t10k-images-idx3-ubyte.gz\n",
      "Extracting ./inputs/mnist\\t10k-labels-idx1-ubyte.gz\n"
     ]
    }
   ],
   "source": [
    "mnist = input_data.read_data_sets('./inputs/mnist')\n",
    "# Resetting default graph, starting from scratch\n",
    "tf.reset_default_graph()\n",
    "\n",
    "epochs = 6000\n",
    "batch_size = 64\n",
    "n_noise = 200\n",
    "learning_rate=0.00015\n",
    "\n",
    "real_images = tf.placeholder(dtype=tf.float32, shape=[None, 28, 28, 1], name='real_images')\n",
    "noise = tf.placeholder(dtype=tf.float32, shape=[None, n_noise])\n",
    "\n",
    "# The keep_prob variable will be used by our dropout layers, which we introduce for more stable learning outcome\n",
    "keep_prob = tf.placeholder(dtype=tf.float32, name='keep_prob')\n",
    "is_training = tf.placeholder(dtype=tf.bool, name='is_training')\n",
    "\n",
    "# Leaky Relu activation\n",
    "# https://en.wikipedia.org/wiki/Rectifier_%28neural_networks%29#Potential_problems\n",
    "def lrelu(x):\n",
    "    return tf.maximum(x, tf.multiply(x, 0.2))\n",
    "\n",
    "# Binary cross entropy for descriminators\n",
    "def binary_cross_entropy(x, z):\n",
    "    eps = 1e-12\n",
    "    return (-(x * tf.log(z + eps) + (1. - x) * tf.log(1. - z + eps)))\n",
    "\n",
    "# Code by Parag Mital (github.com/pkmital/CADL)\n",
    "def montage(images):\n",
    "    if isinstance(images, list):\n",
    "        images = np.array(images)\n",
    "    img_h = images.shape[1]\n",
    "    img_w = images.shape[2]\n",
    "    n_plots = int(np.ceil(np.sqrt(images.shape[0])))\n",
    "    m = np.ones((images.shape[1] * n_plots + n_plots + 1, images.shape[2] * n_plots + n_plots + 1)) * 0.5\n",
    "    for i in range(n_plots):\n",
    "        for j in range(n_plots):\n",
    "            this_filter = i * n_plots + j\n",
    "            if this_filter < images.shape[0]:\n",
    "                this_img = images[this_filter]\n",
    "                m[1 + i + i * img_h:1 + i + (i + 1) * img_h,\n",
    "                  1 + j + j * img_w:1 + j + (j + 1) * img_w] = this_img\n",
    "    return m"
   ]
  },
  {
   "cell_type": "code",
   "execution_count": 7,
   "metadata": {},
   "outputs": [
    {
     "ename": "IndentationError",
     "evalue": "unindent does not match any outer indentation level (<tokenize>, line 82)",
     "output_type": "error",
     "traceback": [
      "\u001b[1;36m  File \u001b[1;32m\"<tokenize>\"\u001b[1;36m, line \u001b[1;32m82\u001b[0m\n\u001b[1;33m    if dropout:\u001b[0m\n\u001b[1;37m    ^\u001b[0m\n\u001b[1;31mIndentationError\u001b[0m\u001b[1;31m:\u001b[0m unindent does not match any outer indentation level\n"
     ]
    }
   ],
   "source": [
    "class DCGAN:\n",
    "    def __init__(self, img_length, num_colors, d_sizes, g_sizes, keep_prob=keep_prob):\n",
    "        \n",
    "        self.img_length = img_length\n",
    "        self.num_colors = num_colors\n",
    "        self.latent_dims = g_sizes['z']\n",
    "        self.momentum = 0.99\n",
    "        self.keep_prob = keep_prob\n",
    "\n",
    "        # For mnist, img_length = 28, num_colors = 1\n",
    "        self.real_images = tf.placeholder(\n",
    "            dtype=tf.float32,\n",
    "            shape=[None, img_length, img_length, num_colors],\n",
    "            name='real_images')\n",
    "        \n",
    "        noise = tf.placeholder(\n",
    "            dtype=tf.float32,\n",
    "            shape=[None, latent_dims])\n",
    "        \n",
    "    def build_discriminator(self, X, reuse=None, keep_prob, d_sizes):\n",
    "        '''\n",
    "        d_sizes = {\n",
    "            'conv_layers': [],\n",
    "            'dense_layers': []\n",
    "        }\n",
    "        '''\n",
    "        activation = lrelu\n",
    "        with tf.variable_scope('disc', reuse=reuse):\n",
    "            # Reshaping input\n",
    "            x = tf.reshape(X, shape=[-1, self.img_length, self.img_length, 1])\n",
    "            for kernels, filtersz, stride, dropout, apply_batch_norm in d_sizes['conv_layers']:\n",
    "                x = tf.layers.conv2d(\n",
    "                    x,\n",
    "                    kernel_size=kernels,\n",
    "                    filters=filtersz,\n",
    "                    strides=stride,\n",
    "                    padding='same',\n",
    "                    activation=activation)\n",
    "                if dropout:\n",
    "                    x = tf.layers.dropout(x, self.keep_prob)\n",
    "            \n",
    "                if apply_batch_norm:\n",
    "                    x = tf.contrib.layers.batch_norm(x, is_training=is_training, decay=momentum)\n",
    "            for units in d_sizes['dense_layers']:\n",
    "                x = tf.layers.dense(x, units=units, activation=activation)\n",
    "            x = tf.layers.dense(x, units=1, activation=tf.nn.sigmoid)\n",
    "            return x\n",
    "    \n",
    "    def build_generator(self, Z, reuse=None, keep_prob, g_sizes):\n",
    "        '''\n",
    "        # Example\n",
    "        g_sizes = {\n",
    "          'd1': 4,\n",
    "          'd2': 1,\n",
    "          'dense_layers': [],\n",
    "          'conv_layers': []\n",
    "        }\n",
    "        '''\n",
    "        activation = lrelu\n",
    "        with tf.variable_scope('gen', reuse=reuse):\n",
    "            x = Z\n",
    "            d1 = d_sizes['d1']\n",
    "            d2 = d_sizes['d2']\n",
    "            # Dense layers\n",
    "            for units, dropout, apply_batch_norm in d_sizes['dense_layers']:\n",
    "                x = tf.layers.dense(x, units=units, activation=activation)\n",
    "                if dropout:\n",
    "                    x = tf.layers.dropout(x, keep_prob)\n",
    "                if apply_batch_norm:\n",
    "                    x = tf.contrib.layers.batch_norm(x, is_training=is_training, decay=momentum)\n",
    "            x = tf.reshape(x, shape=[-1, d1, d1, d2])\n",
    "            x = tf.image.resize_images(x, size=[7, 7])\n",
    "            # Conv layers\n",
    "            for kernels, filtersz, stride, dropout, apply_batch_norm in d_sizes['conv_layers']:\n",
    "                 x = tf.layers.conv2d_transpose(\n",
    "                     x,\n",
    "                     kernel_size=kernels,\n",
    "                     filters=filtersz,\n",
    "                     strides=stride,\n",
    "                     padding='same',\n",
    "                     activation=activation)\n",
    "                if dropout:\n",
    "                    x = tf.layers.dropout(x, self.keep_prob)\n",
    "                if apply_batch_norm:\n",
    "                    x = tf.contrib.layers.batch_norm(x, is_training=self.is_training, decay=self.momentum)\n",
    "            return x"
   ]
  },
  {
   "cell_type": "code",
   "execution_count": null,
   "metadata": {
    "collapsed": true
   },
   "outputs": [],
   "source": []
  },
  {
   "cell_type": "code",
   "execution_count": null,
   "metadata": {
    "collapsed": true
   },
   "outputs": [],
   "source": []
  }
 ],
 "metadata": {
  "kernelspec": {
   "display_name": "Python 3",
   "language": "python",
   "name": "python3"
  },
  "language_info": {
   "codemirror_mode": {
    "name": "ipython",
    "version": 3
   },
   "file_extension": ".py",
   "mimetype": "text/x-python",
   "name": "python",
   "nbconvert_exporter": "python",
   "pygments_lexer": "ipython3",
   "version": "3.5.4"
  }
 },
 "nbformat": 4,
 "nbformat_minor": 2
}
