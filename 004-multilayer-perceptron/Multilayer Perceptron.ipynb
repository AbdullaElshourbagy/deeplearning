{
 "cells": [
  {
   "cell_type": "markdown",
   "metadata": {
    "collapsed": true
   },
   "source": [
    "# What is Multi Layer Perceptron?\n",
    "\n",
    "- So far we have looked into linear classifier\n",
    "- It is commonly go by the name of Neural Networks\n",
    "\n",
    "\n",
    "### Linear Classifier\n",
    "\n",
    "- It is a mapping which partitions features using a straight line\n",
    "- Separates two classes using a straight line in feature space\n",
    "\n",
    "<img src=\"attachments/LinearClassifier.png\">\n",
    "\n",
    "\n",
    "- A typical linear classifier would\n",
    "- Intake features / inputs (e.g. x1, x2) and a constant feature 1\n",
    "- Applies weights to each feature\n",
    "- Run a classifier (weighted sum of inputs)\n",
    "- Run a binary threshold function to get a binary output\n",
    "\n",
    "<img src=\"attachments/perceptron_classifier.png\">\n",
    "\n",
    "\n",
    "### Role of features\n",
    "\n",
    "- Create extra features that allow more complex decision boundaries\n",
    "   - Data augmentation\n",
    "- Original: Feature [1, x]\n",
    "   - Decision rule: T(ax + b) = ax + b >/<0\n",
    "   - Boundary ax + b = 0 => point\n",
    "- Augmented: Features [1, x, x^2]\n",
    "   - Decision rule: T(ax^2+bx+c)\n",
    "   - Boundary ax^2 + bx + c = 0 = ?\n",
    "   \n",
    "### Multilayer Perceptron\n",
    "\n",
    "<img src=\"attachments/multilayer_perceptron.png\">\n",
    "\n",
    "- Basically multilayer perceptron is made up of small building blocks and each step function is a perceptron\n",
    "   - Perceptrons are:\n",
    "   - Linear Partition\n",
    "   - Step Function\n",
    "   \n",
    "- Each layer's outputs become next layer's inputs\n",
    "- Current research focuses on \"Deep\" architectures (many layers)\n",
    "\n",
    "\n",
    "### Neural Network\n",
    "\n",
    "- Biological Motivation\n",
    "- Neurons\n",
    "   - Simple cell\n",
    "   - Dendrites sense charge\n",
    "   - Cell weighs inputs\n",
    "   - Fires axon\n",
    "\n",
    "### Activation Functions\n",
    "\n",
    "<img src=\"attachments/activation_functions.png\">\n",
    "\n",
    "- Function used at each node\n",
    "- In deep models, activation function might be different per layer\n",
    "\n",
    "### Example of Neural Networks\n",
    "\n",
    "- Feedforward Network\n",
    "- Recurrent Network"
   ]
  },
  {
   "cell_type": "code",
   "execution_count": null,
   "metadata": {
    "collapsed": true
   },
   "outputs": [],
   "source": []
  }
 ],
 "metadata": {
  "kernelspec": {
   "display_name": "Python 3",
   "language": "python",
   "name": "python3"
  },
  "language_info": {
   "codemirror_mode": {
    "name": "ipython",
    "version": 3
   },
   "file_extension": ".py",
   "mimetype": "text/x-python",
   "name": "python",
   "nbconvert_exporter": "python",
   "pygments_lexer": "ipython3",
   "version": "3.5.4"
  }
 },
 "nbformat": 4,
 "nbformat_minor": 2
}
