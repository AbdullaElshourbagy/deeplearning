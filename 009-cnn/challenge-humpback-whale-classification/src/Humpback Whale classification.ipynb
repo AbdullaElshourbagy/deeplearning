{
 "cells": [
  {
   "cell_type": "code",
   "execution_count": 305,
   "metadata": {
    "collapsed": true
   },
   "outputs": [],
   "source": [
    "import os\n",
    "import numpy as np # linear algebra\n",
    "import pandas as pd # data processing, CSV file I/O (e.g. pd.read_csv)\n",
    "import keras\n",
    "from keras.models import Sequential\n",
    "from keras.layers import Dense, Conv2D, MaxPooling2D, Flatten, Dropout\n",
    "from keras.losses import categorical_crossentropy\n",
    "from keras.optimizers import Adam\n",
    "from sklearn.model_selection import train_test_split\n",
    "\n",
    "import os\n",
    "from tqdm import tqdm\n",
    "from sklearn import preprocessing\n",
    "import cv2\n",
    "# Input data files are available in the \"../input/\" directory.\n",
    "# For example, running this (by clicking run or pressing Shift+Enter) will list the files in the input directory\n",
    "\n",
    "from subprocess import check_output\n",
    "import matplotlib.pyplot as plt\n",
    "import matplotlib.image as mpimg"
   ]
  },
  {
   "cell_type": "markdown",
   "metadata": {},
   "source": [
    "## Initiating Hyper Params"
   ]
  },
  {
   "cell_type": "code",
   "execution_count": 313,
   "metadata": {
    "collapsed": true
   },
   "outputs": [],
   "source": [
    "pool_size = (2,2)\n",
    "learning_rate = 0.07\n",
    "num_of_epochs = 10\n",
    "im_size = 128\n",
    "training_dir = '../inputs/train/'\n",
    "testing_dir = '../inputs/test/'\n",
    "batch_size = 64\n",
    "epoch = 10\n",
    "k_size = (4,4)\n",
    "drop_probability = 0.5\n",
    "hidden_size = 256\n",
    "batch_size = 64\n",
    "input_shape = (im_size, im_size)\n",
    "X_train_check = './X_train.npy'\n",
    "y_train_check = './y_train.npy'\n",
    "X_test_check = './X_test.npy'\n",
    "\n",
    "# Utils\n",
    "def process_image(file_dir, name):\n",
    "    fname = '{fdir}{fname}'.format(fdir=file_dir, fname=name)\n",
    "    x = cv2.imread(fname)\n",
    "    resized_x = cv2.resize(x, (im_size, im_size))\n",
    "    return resized_x / 255"
   ]
  },
  {
   "cell_type": "markdown",
   "metadata": {},
   "source": [
    "## Code"
   ]
  },
  {
   "cell_type": "code",
   "execution_count": 307,
   "metadata": {},
   "outputs": [
    {
     "name": "stderr",
     "output_type": "stream",
     "text": [
      "100%|██████████| 9850/9850 [01:03<00:00, 155.58it/s]\n",
      "100%|██████████| 15610/15610 [01:35<00:00, 163.87it/s]\n"
     ]
    }
   ],
   "source": [
    "# Placeholders\n",
    "X_train = []\n",
    "y_train = []\n",
    "X_test = []\n",
    "\n",
    "try:\n",
    "    X_train = np.load(X_train_check)\n",
    "    y_train = np.load(y_train_check)\n",
    "    X_test = np.load(X_test_check)\n",
    "exceptL\n",
    "# TODO: Save NP files\n",
    "# Loading training and label data\n",
    "for file, label in tqdm(df_train.values):\n",
    "    img = process_image(training_dir, file)\n",
    "    X_train.append(img)\n",
    "    y_train.append(label)\n",
    "\n",
    "# Loading testing data\n",
    "test_files = []\n",
    "for root, dirs, files in os.walk(testing_dir):  \n",
    "    for filename in files:\n",
    "        test_files.append(filename)\n",
    "        \n",
    "for file in tqdm(test_files):\n",
    "    img = process_image(testing_dir, file)\n",
    "    X_test.append(img)\n",
    "    \n",
    "X_train = np.array(X_train)\n",
    "y_train = np.array(y_train)\n",
    "X_test = np.array(X_test)\n",
    "\n",
    "np.save(X_train_check, X_train)\n",
    "np.save(y_train_check, y_train)\n",
    "np.save(X_test_check, X_test)"
   ]
  },
  {
   "cell_type": "code",
   "execution_count": 312,
   "metadata": {},
   "outputs": [
    {
     "ename": "IOError",
     "evalue": "[Errno 2] No such file or directory: 'y_train_check'",
     "output_type": "error",
     "traceback": [
      "\u001b[0;31m---------------------------------------------------------------------------\u001b[0m",
      "\u001b[0;31mIOError\u001b[0m                                   Traceback (most recent call last)",
      "\u001b[0;32m<ipython-input-312-9c4455ebafbc>\u001b[0m in \u001b[0;36m<module>\u001b[0;34m()\u001b[0m\n\u001b[0;32m----> 1\u001b[0;31m \u001b[0mnp\u001b[0m\u001b[0;34m.\u001b[0m\u001b[0mload\u001b[0m\u001b[0;34m(\u001b[0m\u001b[0;34m'y_train_check'\u001b[0m\u001b[0;34m)\u001b[0m\u001b[0;34m\u001b[0m\u001b[0m\n\u001b[0m",
      "\u001b[0;32m/Users/jasons/anaconda2/lib/python2.7/site-packages/numpy/lib/npyio.pyc\u001b[0m in \u001b[0;36mload\u001b[0;34m(file, mmap_mode, allow_pickle, fix_imports, encoding)\u001b[0m\n\u001b[1;32m    368\u001b[0m     \u001b[0mown_fid\u001b[0m \u001b[0;34m=\u001b[0m \u001b[0mFalse\u001b[0m\u001b[0;34m\u001b[0m\u001b[0m\n\u001b[1;32m    369\u001b[0m     \u001b[0;32mif\u001b[0m \u001b[0misinstance\u001b[0m\u001b[0;34m(\u001b[0m\u001b[0mfile\u001b[0m\u001b[0;34m,\u001b[0m \u001b[0mbasestring\u001b[0m\u001b[0;34m)\u001b[0m\u001b[0;34m:\u001b[0m\u001b[0;34m\u001b[0m\u001b[0m\n\u001b[0;32m--> 370\u001b[0;31m         \u001b[0mfid\u001b[0m \u001b[0;34m=\u001b[0m \u001b[0mopen\u001b[0m\u001b[0;34m(\u001b[0m\u001b[0mfile\u001b[0m\u001b[0;34m,\u001b[0m \u001b[0;34m\"rb\"\u001b[0m\u001b[0;34m)\u001b[0m\u001b[0;34m\u001b[0m\u001b[0m\n\u001b[0m\u001b[1;32m    371\u001b[0m         \u001b[0mown_fid\u001b[0m \u001b[0;34m=\u001b[0m \u001b[0mTrue\u001b[0m\u001b[0;34m\u001b[0m\u001b[0m\n\u001b[1;32m    372\u001b[0m     \u001b[0;32melif\u001b[0m \u001b[0mis_pathlib_path\u001b[0m\u001b[0;34m(\u001b[0m\u001b[0mfile\u001b[0m\u001b[0;34m)\u001b[0m\u001b[0;34m:\u001b[0m\u001b[0;34m\u001b[0m\u001b[0m\n",
      "\u001b[0;31mIOError\u001b[0m: [Errno 2] No such file or directory: 'y_train_check'"
     ]
    }
   ],
   "source": []
  },
  {
   "cell_type": "code",
   "execution_count": 286,
   "metadata": {
    "collapsed": true
   },
   "outputs": [],
   "source": [
    "# One hot encode labels\n",
    "one_hot = pd.get_dummies(y_train, sparse = True)"
   ]
  },
  {
   "cell_type": "code",
   "execution_count": 287,
   "metadata": {
    "collapsed": true
   },
   "outputs": [],
   "source": [
    "one_hot_labels = np.asarray(one_hot)"
   ]
  },
  {
   "cell_type": "code",
   "execution_count": 288,
   "metadata": {},
   "outputs": [
    {
     "name": "stdout",
     "output_type": "stream",
     "text": [
      "[[0 0 0 ..., 0 0 0]\n",
      " [0 0 0 ..., 0 0 0]\n",
      " [0 0 0 ..., 0 0 0]\n",
      " ..., \n",
      " [0 0 0 ..., 0 0 0]\n",
      " [0 0 0 ..., 0 0 0]\n",
      " [0 0 0 ..., 0 0 0]]\n"
     ]
    }
   ],
   "source": [
    "print(one_hot_labels)"
   ]
  },
  {
   "cell_type": "code",
   "execution_count": 294,
   "metadata": {
    "collapsed": true
   },
   "outputs": [],
   "source": [
    "y_train_raw = np.array(one_hot_labels, np.uint8)\n",
    "x_train_raw = np.array(X_train, np.float32)\n",
    "x_test  = np.array(X_test, np.float32)"
   ]
  },
  {
   "cell_type": "code",
   "execution_count": 295,
   "metadata": {},
   "outputs": [
    {
     "name": "stdout",
     "output_type": "stream",
     "text": [
      "(9850, 4251)\n",
      "(9850, 128, 128, 3)\n",
      "(15610, 128, 128, 3)\n"
     ]
    }
   ],
   "source": [
    "print(y_train_raw.shape)\n",
    "print(x_train_raw.shape)\n",
    "print(x_test.shape)"
   ]
  },
  {
   "cell_type": "code",
   "execution_count": 298,
   "metadata": {},
   "outputs": [
    {
     "name": "stdout",
     "output_type": "stream",
     "text": [
      "4251\n"
     ]
    }
   ],
   "source": [
    "num_classes = y_train_raw.shape[1]\n",
    "print(num_classes)"
   ]
  },
  {
   "cell_type": "code",
   "execution_count": null,
   "metadata": {},
   "outputs": [
    {
     "name": "stdout",
     "output_type": "stream",
     "text": [
      "('checking input_shape ', (128, 128, 3))\n",
      "_________________________________________________________________\n",
      "Layer (type)                 Output Shape              Param #   \n",
      "=================================================================\n",
      "conv2d_55 (Conv2D)           (None, 125, 125, 32)      1568      \n",
      "_________________________________________________________________\n",
      "max_pooling2d_50 (MaxPooling (None, 62, 62, 32)        0         \n",
      "_________________________________________________________________\n",
      "conv2d_56 (Conv2D)           (None, 59, 59, 64)        32832     \n",
      "_________________________________________________________________\n",
      "max_pooling2d_51 (MaxPooling (None, 58, 58, 64)        0         \n",
      "_________________________________________________________________\n",
      "conv2d_57 (Conv2D)           (None, 55, 55, 512)       524800    \n",
      "_________________________________________________________________\n",
      "max_pooling2d_52 (MaxPooling (None, 27, 27, 512)       0         \n",
      "_________________________________________________________________\n",
      "flatten_33 (Flatten)         (None, 373248)            0         \n",
      "_________________________________________________________________\n",
      "dense_77 (Dense)             (None, 1024)              382206976 \n",
      "_________________________________________________________________\n",
      "dropout_35 (Dropout)         (None, 1024)              0         \n",
      "_________________________________________________________________\n",
      "dense_78 (Dense)             (None, 512)               524800    \n",
      "_________________________________________________________________\n",
      "dense_79 (Dense)             (None, 32)                16416     \n",
      "_________________________________________________________________\n",
      "dropout_36 (Dropout)         (None, 32)                0         \n",
      "_________________________________________________________________\n",
      "dense_80 (Dense)             (None, 4251)              140283    \n",
      "=================================================================\n",
      "Total params: 383,447,675\n",
      "Trainable params: 383,447,675\n",
      "Non-trainable params: 0\n",
      "_________________________________________________________________\n"
     ]
    }
   ],
   "source": [
    "model = Sequential()\n",
    "input_shape = X_train_raw.shape[1:]\n",
    "print('checking input_shape ', input_shape)\n",
    "model.add(Convolution2D(32, kernel_size=k_size, activation=\"relu\", input_shape=X_train_raw.shape[1:]))\n",
    "model.add(MaxPooling2D(pool_size=pool_size, strides=(2,2)))\n",
    "model.add(Convolution2D(64, kernel_size=k_size, activation=\"relu\"))\n",
    "model.add(MaxPooling2D(pool_size=pool_size, strides=(1,1)))\n",
    "model.add(Convolution2D(512, kernel_size=k_size, activation=\"relu\"))\n",
    "model.add(MaxPooling2D(pool_size=pool_size, strides=(2,2)))\n",
    "model.add(Flatten())\n",
    "model.add(Dense(1024, activation=\"relu\"))\n",
    "model.add(Dropout(0.25))\n",
    "model.add(Dense(512, activation=\"relu\"))\n",
    "model.add(Dense(32, activation=\"relu\"))\n",
    "model.add(Dropout(0.25))\n",
    "model.add(Dense(num_classes, activation=\"softmax\"))\n",
    "\n",
    "# COST AND OPTIMIZER\n",
    "model.compile(loss=categorical_crossentropy,\n",
    "              optimizer=Adam(lr=0.01),\n",
    "              metrics=['accuracy'])\n",
    "\n",
    "model.summary()"
   ]
  },
  {
   "cell_type": "code",
   "execution_count": null,
   "metadata": {
    "collapsed": true
   },
   "outputs": [],
   "source": [
    "model.fit(X_train_raw, y_train_raw, batch_size=batch_size, epochs=num_of_epochs, verbose=1)"
   ]
  },
  {
   "cell_type": "code",
   "execution_count": null,
   "metadata": {
    "collapsed": true
   },
   "outputs": [],
   "source": []
  }
 ],
 "metadata": {
  "kernelspec": {
   "display_name": "Python 2",
   "language": "python",
   "name": "python2"
  }
 },
 "nbformat": 4,
 "nbformat_minor": 2
}
