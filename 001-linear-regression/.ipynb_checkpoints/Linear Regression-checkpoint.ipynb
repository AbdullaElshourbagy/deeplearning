{
 "cells": [
  {
   "cell_type": "code",
   "execution_count": 2,
   "metadata": {
    "collapsed": true
   },
   "outputs": [],
   "source": [
    "import numpy as np\n",
    "import matplotlib.pyplot as plt"
   ]
  },
  {
   "cell_type": "code",
   "execution_count": 9,
   "metadata": {
    "collapsed": true
   },
   "outputs": [],
   "source": [
    "# func to find mean of array\n",
    "mean = lambda nums : sum(nums) / len(nums)\n",
    "# same as mean = np.mean"
   ]
  },
  {
   "cell_type": "code",
   "execution_count": 4,
   "metadata": {
    "collapsed": true
   },
   "outputs": [],
   "source": [
    "def draw_regression_line(xs, ys):\n",
    "    if len(xs) != len(ys):\n",
    "        raise ValueError('data sets x and y must be of equal length')\n",
    "    xs = np.array(xs, dtype= np.float64)\n",
    "    ys = np.array(ys, dtype= np.float64)\n",
    "    m, b = regression(xs, ys)\n",
    "    regression_line = [ (m*x) + b for x in xs]\n",
    "    r_squared = coeff_of_determination(ys, regression_line)\n",
    "\n",
    "    points = plt.scatter(xs, ys, label = '')\n",
    "    line = plt.plot(xs, regression_line, label = 'R² = {}'.format(r_squared))\n",
    "    print('y = {}x + {}'.format(m, b))\n",
    "    print('R² = {}'.format(r_squared))\n",
    "    plt.title('y = {}x + {}'.format(m, b))\n",
    "    plt.xlabel('')\n",
    "    plt.ylabel('y')\n",
    "    plt.legend()\n",
    "    plt.show()"
   ]
  },
  {
   "cell_type": "code",
   "execution_count": 5,
   "metadata": {
    "collapsed": true
   },
   "outputs": [],
   "source": [
    "def regression(xs, ys):\n",
    "    m = ( (mean(xs)*mean(ys) - mean(xs*ys))  /\n",
    "        (mean(xs)**2 - mean(xs**2)) )\n",
    "    b = ys - (m * xs)\n",
    "    return m, b"
   ]
  },
  {
   "cell_type": "code",
   "execution_count": 6,
   "metadata": {
    "collapsed": true
   },
   "outputs": [],
   "source": [
    "def squared_error(y_points, regression_line):\n",
    "    return sum( (regression_line - y_points)**2)"
   ]
  },
  {
   "cell_type": "code",
   "execution_count": 7,
   "metadata": {
    "collapsed": true
   },
   "outputs": [],
   "source": [
    "def coeff_of_determination(y_points, regression_line):\n",
    "    y_mean_line = [mean(y_points) for y in regression_line]\n",
    "    squared_error_regr = squared_error(y_points, regression_line)\n",
    "    squared_error_y_mean = squared_error(y_points, y_mean_line)\n",
    "    return 1 - (squared_error_regr / squared_error_y_mean)"
   ]
  },
  {
   "cell_type": "code",
   "execution_count": 8,
   "metadata": {},
   "outputs": [
    {
     "name": "stdout",
     "output_type": "stream",
     "text": [
      "y = 0.42857142857142866x + 4.0\n",
      "R² = 0.5844155844155845\n"
     ]
    },
    {
     "data": {
      "image/png": "[encoded data removed]",
      "text/plain": [
       "<matplotlib.figure.Figure at 0x2b3a45e7400>"
      ]
     },
     "metadata": {},
     "output_type": "display_data"
    }
   ],
   "source": [
    "draw_regression_line([1, 2, 3, 4, 5, 6], [5, 4, 6, 5, 6, 7])"
   ]
  },
  {
   "cell_type": "code",
   "execution_count": null,
   "metadata": {
    "collapsed": true
   },
   "outputs": [],
   "source": []
  }
 ],
 "metadata": {
  "kernelspec": {
   "display_name": "Python 3",
   "language": "python",
   "name": "python3"
  },
  "language_info": {
   "codemirror_mode": {
    "name": "ipython",
    "version": 3
   },
   "file_extension": ".py",
   "mimetype": "text/x-python",
   "name": "python",
   "nbconvert_exporter": "python",
   "pygments_lexer": "ipython3",
   "version": "3.5.4"
  }
 },
 "nbformat": 4,
 "nbformat_minor": 2
}
